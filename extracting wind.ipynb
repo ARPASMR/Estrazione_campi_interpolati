{
 "cells": [
  {
   "cell_type": "code",
   "execution_count": 1,
   "metadata": {},
   "outputs": [],
   "source": [
    "import os\n",
    "import pandas as pd\n",
    "import numpy as np\n",
    "from pandas import Series, DataFrame, Panel\n",
    "from sqlalchemy import *\n",
    "import datetime as dt"
   ]
  },
  {
   "cell_type": "code",
   "execution_count": 2,
   "metadata": {},
   "outputs": [],
   "source": [
    "dir_in='C:\\\\Users\\\\mazanetti\\\\Downloads\\\\Basiano\\\\Concorezzo\\\\Dati\\\\agosto_2020\\\\'"
   ]
  },
  {
   "cell_type": "code",
   "execution_count": 3,
   "metadata": {},
   "outputs": [],
   "source": [
    "nome_file=[\"text\",\"text\"]\n",
    "#nome_file=[dir_in+'VV_2017092916UTCplus1.txt',dir_in+'VU_2017092916UTCplus1.txt']\n",
    "datainizio=dt.datetime.strptime('2020-08-01 00:00', '%Y-%m-%d %H:%M')\n",
    "datafine=dt.datetime.strptime('2020-09-01 00:00','%Y-%m-%d %H:%M')\n",
    "elenco_date=range(int((datafine-datainizio).days*24))\n",
    "mylist=[]\n",
    "import csv"
   ]
  },
  {
   "cell_type": "code",
   "execution_count": 4,
   "metadata": {},
   "outputs": [],
   "source": [
    "mylist=[]\n",
    "for numhours in elenco_date:\n",
    "    #index+=1\n",
    "    data=datainizio+dt.timedelta(hours=numhours)\n",
    "    nome_v='VV_2020'+data.strftime(\"%m%d%H\")+'UTCplus1.txt'\n",
    "    nome_u='VU_2020'+data.strftime(\"%m%d%H\")+'UTCplus1.txt'\n",
    "    nome_file=[dir_in+nome_u,dir_in+nome_v]\n",
    "    vento=[0,0]\n",
    "    \n",
    "    irow=87\n",
    "    icol=60\n",
    "    for kk in [0,1]:\n",
    "        f=open(nome_file[kk],\"r\")\n",
    "        lines=f.readlines()\n",
    "        f.close()\n",
    "        c=0\n",
    "        for i in lines:\n",
    "            c+=1\n",
    "            #print(i)\n",
    "            if (c==irow):\n",
    "                array=[i[j:j+14] for j in range(0,len(i),15)]\n",
    "                values = i.split()\n",
    "                #print(values)\n",
    "                #print(values[icol])\n",
    "                vento[kk]=values[icol]\n",
    "    #print(vento)\n",
    "    tempo=[data.strftime(\"%Y%m%d%H\"),\"\"]\n",
    "    mylist.append(tempo+vento)\n",
    "    #print (mylist)\n"
   ]
  },
  {
   "cell_type": "code",
   "execution_count": 5,
   "metadata": {},
   "outputs": [],
   "source": [
    "with open (dir_in+'concorezzo_202008.csv','w') as fp:\n",
    "    a=csv.writer(fp,delimiter=';')\n",
    "    a.writerows(mylist)"
   ]
  },
  {
   "cell_type": "code",
   "execution_count": null,
   "metadata": {},
   "outputs": [],
   "source": []
  }
 ],
 "metadata": {
  "kernelspec": {
   "display_name": "Python 2",
   "language": "python",
   "name": "python2"
  },
  "language_info": {
   "codemirror_mode": {
    "name": "ipython",
    "version": 2
   },
   "file_extension": ".py",
   "mimetype": "text/x-python",
   "name": "python",
   "nbconvert_exporter": "python",
   "pygments_lexer": "ipython2",
   "version": "2.7.15"
  }
 },
 "nbformat": 4,
 "nbformat_minor": 2
}
